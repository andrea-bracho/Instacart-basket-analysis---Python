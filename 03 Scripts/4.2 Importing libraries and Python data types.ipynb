{
 "cells": [
  {
   "cell_type": "markdown",
   "metadata": {},
   "source": [
    "# Importing Libraries"
   ]
  },
  {
   "cell_type": "code",
   "execution_count": 4,
   "metadata": {},
   "outputs": [],
   "source": [
    "# Importing libraries\n",
    "import pandas as pd\n",
    "import numpy as np\n",
    "import os"
   ]
  },
  {
   "cell_type": "markdown",
   "metadata": {},
   "source": [
    "# 02 Data types"
   ]
  },
  {
   "cell_type": "code",
   "execution_count": 10,
   "metadata": {},
   "outputs": [
    {
     "data": {
      "text/plain": [
       "100"
      ]
     },
     "execution_count": 10,
     "metadata": {},
     "output_type": "execute_result"
    }
   ],
   "source": [
    "x=20 \n",
    "y=30 \n",
    "z=50\n",
    "x+y+z"
   ]
  },
  {
   "cell_type": "code",
   "execution_count": 11,
   "metadata": {},
   "outputs": [
    {
     "data": {
      "text/plain": [
       "100"
      ]
     },
     "execution_count": 11,
     "metadata": {},
     "output_type": "execute_result"
    }
   ],
   "source": [
    "a=1\n",
    "b=120\n",
    "c=21\n",
    "a+b-c"
   ]
  },
  {
   "cell_type": "code",
   "execution_count": 14,
   "metadata": {},
   "outputs": [
    {
     "data": {
      "text/plain": [
       "100"
      ]
     },
     "execution_count": 14,
     "metadata": {},
     "output_type": "execute_result"
    }
   ],
   "source": [
    "m=109\n",
    "n=395\n",
    "p=386\n",
    "m-n+p"
   ]
  },
  {
   "cell_type": "code",
   "execution_count": 15,
   "metadata": {},
   "outputs": [
    {
     "data": {
      "text/plain": [
       "1.115146244498083"
      ]
     },
     "execution_count": 15,
     "metadata": {},
     "output_type": "execute_result"
    }
   ],
   "source": [
    "d=3.14159\n",
    "e=2.8172\n",
    "d/e"
   ]
  },
  {
   "cell_type": "code",
   "execution_count": 19,
   "metadata": {},
   "outputs": [
    {
     "name": "stdout",
     "output_type": "stream",
     "text": [
      "sternocleidomastoid muscle\n"
     ]
    }
   ],
   "source": [
    "r='sterno'\n",
    "s='cleido'\n",
    "t='mastoid ' \n",
    "u='muscle'\n",
    "v=r+s+t+u\n",
    "print(v)"
   ]
  },
  {
   "cell_type": "code",
   "execution_count": 23,
   "metadata": {},
   "outputs": [
    {
     "data": {
      "text/plain": [
       "'The sternocleidomastoid muscle connect the sternum, clavicle, and mastoid process of the temporal bone. So you can turn your head or nod YES or NO.'"
      ]
     },
     "execution_count": 23,
     "metadata": {},
     "output_type": "execute_result"
    }
   ],
   "source": [
    "aa=\"The \"\n",
    "bb=\" connect the sternum, clavicle, and mastoid process of the temporal bone. \"\n",
    "cc=\"So you can turn your head or nod YES or NO.\"\n",
    "aa+v+bb+cc"
   ]
  },
  {
   "cell_type": "code",
   "execution_count": 24,
   "metadata": {},
   "outputs": [
    {
     "data": {
      "text/plain": [
       "'sternocleidomastoid musclesternocleidomastoid musclesternocleidomastoid musclesternocleidomastoid musclesternocleidomastoid musclesternocleidomastoid musclesternocleidomastoid musclesternocleidomastoid musclesternocleidomastoid musclesternocleidomastoid musclesternocleidomastoid musclesternocleidomastoid musclesternocleidomastoid musclesternocleidomastoid musclesternocleidomastoid musclesternocleidomastoid musclesternocleidomastoid musclesternocleidomastoid musclesternocleidomastoid musclesternocleidomastoid musclesternocleidomastoid musclesternocleidomastoid musclesternocleidomastoid musclesternocleidomastoid musclesternocleidomastoid musclesternocleidomastoid musclesternocleidomastoid musclesternocleidomastoid musclesternocleidomastoid musclesternocleidomastoid musclesternocleidomastoid musclesternocleidomastoid musclesternocleidomastoid musclesternocleidomastoid musclesternocleidomastoid musclesternocleidomastoid musclesternocleidomastoid musclesternocleidomastoid musclesternocleidomastoid musclesternocleidomastoid musclesternocleidomastoid musclesternocleidomastoid musclesternocleidomastoid musclesternocleidomastoid musclesternocleidomastoid musclesternocleidomastoid musclesternocleidomastoid musclesternocleidomastoid musclesternocleidomastoid musclesternocleidomastoid musclesternocleidomastoid musclesternocleidomastoid musclesternocleidomastoid musclesternocleidomastoid musclesternocleidomastoid musclesternocleidomastoid musclesternocleidomastoid musclesternocleidomastoid musclesternocleidomastoid musclesternocleidomastoid musclesternocleidomastoid musclesternocleidomastoid musclesternocleidomastoid musclesternocleidomastoid musclesternocleidomastoid musclesternocleidomastoid musclesternocleidomastoid musclesternocleidomastoid musclesternocleidomastoid musclesternocleidomastoid musclesternocleidomastoid musclesternocleidomastoid musclesternocleidomastoid musclesternocleidomastoid musclesternocleidomastoid musclesternocleidomastoid musclesternocleidomastoid musclesternocleidomastoid musclesternocleidomastoid musclesternocleidomastoid musclesternocleidomastoid musclesternocleidomastoid musclesternocleidomastoid musclesternocleidomastoid musclesternocleidomastoid musclesternocleidomastoid musclesternocleidomastoid musclesternocleidomastoid musclesternocleidomastoid musclesternocleidomastoid musclesternocleidomastoid musclesternocleidomastoid musclesternocleidomastoid musclesternocleidomastoid musclesternocleidomastoid musclesternocleidomastoid musclesternocleidomastoid musclesternocleidomastoid musclesternocleidomastoid musclesternocleidomastoid muscle'"
      ]
     },
     "execution_count": 24,
     "metadata": {},
     "output_type": "execute_result"
    }
   ],
   "source": [
    "#bonus\n",
    "v*100"
   ]
  }
 ],
 "metadata": {
  "kernelspec": {
   "display_name": "Python 3",
   "language": "python",
   "name": "python3"
  },
  "language_info": {
   "codemirror_mode": {
    "name": "ipython",
    "version": 3
   },
   "file_extension": ".py",
   "mimetype": "text/x-python",
   "name": "python",
   "nbconvert_exporter": "python",
   "pygments_lexer": "ipython3",
   "version": "3.8.5"
  }
 },
 "nbformat": 4,
 "nbformat_minor": 4
}
